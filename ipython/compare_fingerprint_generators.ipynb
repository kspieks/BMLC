{
 "cells": [
  {
   "cell_type": "markdown",
   "id": "52336434-5924-4de0-b4e3-81054b67836f",
   "metadata": {},
   "source": [
    "RDKit has multiple ways of creating the same fingerprint. Let's make sure they actually give the same result."
   ]
  },
  {
   "cell_type": "code",
   "execution_count": 1,
   "id": "debf5fd9-af84-4b1d-beba-5135b2b78f0c",
   "metadata": {},
   "outputs": [],
   "source": [
    "import numpy as np\n",
    "import pandas as pd\n",
    "\n",
    "from rdkit import Chem, DataStructs\n",
    "from rdkit.Chem import AllChem, Descriptors, rdMolDescriptors, rdFingerprintGenerator"
   ]
  },
  {
   "cell_type": "markdown",
   "id": "b8ef612c-b00d-4745-870a-33ee1a881b4d",
   "metadata": {},
   "source": [
    "# Read in data and get an example SMILES"
   ]
  },
  {
   "cell_type": "code",
   "execution_count": 2,
   "id": "0f7d414e-6994-4ea4-bbf2-80308c9e73dc",
   "metadata": {},
   "outputs": [
    {
     "data": {
      "text/html": [
       "<div>\n",
       "<style scoped>\n",
       "    .dataframe tbody tr th:only-of-type {\n",
       "        vertical-align: middle;\n",
       "    }\n",
       "\n",
       "    .dataframe tbody tr th {\n",
       "        vertical-align: top;\n",
       "    }\n",
       "\n",
       "    .dataframe thead th {\n",
       "        text-align: right;\n",
       "    }\n",
       "</style>\n",
       "<table border=\"1\" class=\"dataframe\">\n",
       "  <thead>\n",
       "    <tr style=\"text-align: right;\">\n",
       "      <th></th>\n",
       "      <th>smiles</th>\n",
       "      <th>logSolubility</th>\n",
       "    </tr>\n",
       "  </thead>\n",
       "  <tbody>\n",
       "    <tr>\n",
       "      <th>0</th>\n",
       "      <td>OCC3OC(OCC2OC(OC(C#N)c1ccccc1)C(O)C(O)C2O)C(O)...</td>\n",
       "      <td>-0.770</td>\n",
       "    </tr>\n",
       "    <tr>\n",
       "      <th>1</th>\n",
       "      <td>Cc1occc1C(=O)Nc2ccccc2</td>\n",
       "      <td>-3.300</td>\n",
       "    </tr>\n",
       "    <tr>\n",
       "      <th>2</th>\n",
       "      <td>CC(C)=CCCC(C)=CC(=O)</td>\n",
       "      <td>-2.060</td>\n",
       "    </tr>\n",
       "    <tr>\n",
       "      <th>3</th>\n",
       "      <td>c1ccc2c(c1)ccc3c2ccc4c5ccccc5ccc43</td>\n",
       "      <td>-7.870</td>\n",
       "    </tr>\n",
       "    <tr>\n",
       "      <th>4</th>\n",
       "      <td>c1ccsc1</td>\n",
       "      <td>-1.330</td>\n",
       "    </tr>\n",
       "    <tr>\n",
       "      <th>...</th>\n",
       "      <td>...</td>\n",
       "      <td>...</td>\n",
       "    </tr>\n",
       "    <tr>\n",
       "      <th>1123</th>\n",
       "      <td>FC(F)(F)C(Cl)Br</td>\n",
       "      <td>-1.710</td>\n",
       "    </tr>\n",
       "    <tr>\n",
       "      <th>1124</th>\n",
       "      <td>CNC(=O)ON=C(SC)C(=O)N(C)C</td>\n",
       "      <td>0.106</td>\n",
       "    </tr>\n",
       "    <tr>\n",
       "      <th>1125</th>\n",
       "      <td>CCSCCSP(=S)(OC)OC</td>\n",
       "      <td>-3.091</td>\n",
       "    </tr>\n",
       "    <tr>\n",
       "      <th>1126</th>\n",
       "      <td>CCC(C)C</td>\n",
       "      <td>-3.180</td>\n",
       "    </tr>\n",
       "    <tr>\n",
       "      <th>1127</th>\n",
       "      <td>COP(=O)(OC)OC(=CCl)c1cc(Cl)c(Cl)cc1Cl</td>\n",
       "      <td>-4.522</td>\n",
       "    </tr>\n",
       "  </tbody>\n",
       "</table>\n",
       "<p>1128 rows × 2 columns</p>\n",
       "</div>"
      ],
      "text/plain": [
       "                                                 smiles  logSolubility\n",
       "0     OCC3OC(OCC2OC(OC(C#N)c1ccccc1)C(O)C(O)C2O)C(O)...         -0.770\n",
       "1                                Cc1occc1C(=O)Nc2ccccc2         -3.300\n",
       "2                                  CC(C)=CCCC(C)=CC(=O)         -2.060\n",
       "3                    c1ccc2c(c1)ccc3c2ccc4c5ccccc5ccc43         -7.870\n",
       "4                                               c1ccsc1         -1.330\n",
       "...                                                 ...            ...\n",
       "1123                                    FC(F)(F)C(Cl)Br         -1.710\n",
       "1124                          CNC(=O)ON=C(SC)C(=O)N(C)C          0.106\n",
       "1125                                  CCSCCSP(=S)(OC)OC         -3.091\n",
       "1126                                            CCC(C)C         -3.180\n",
       "1127              COP(=O)(OC)OC(=CCl)c1cc(Cl)c(Cl)cc1Cl         -4.522\n",
       "\n",
       "[1128 rows x 2 columns]"
      ]
     },
     "execution_count": 2,
     "metadata": {},
     "output_type": "execute_result"
    }
   ],
   "source": [
    "df = pd.read_csv('../examples/ESOL/data/delaney.csv')\n",
    "df"
   ]
  },
  {
   "cell_type": "code",
   "execution_count": 3,
   "id": "49d461b5-5fbd-47d2-a125-0129375ba5ee",
   "metadata": {},
   "outputs": [
    {
     "data": {
      "text/plain": [
       "'Cc1occc1C(=O)Nc2ccccc2'"
      ]
     },
     "execution_count": 3,
     "metadata": {},
     "output_type": "execute_result"
    }
   ],
   "source": [
    "smi = df.smiles.values[1]\n",
    "smi"
   ]
  },
  {
   "cell_type": "code",
   "execution_count": 4,
   "id": "09bf4ea0-98e4-4430-9cc1-02a60630cecb",
   "metadata": {},
   "outputs": [
    {
     "data": {
      "image/png": "[encoded data removed]",
      "text/plain": [
       "<rdkit.Chem.rdchem.Mol at 0x168627ed0>"
      ]
     },
     "execution_count": 4,
     "metadata": {},
     "output_type": "execute_result"
    }
   ],
   "source": [
    "mol = Chem.MolFromSmiles(smi)\n",
    "mol"
   ]
  },
  {
   "cell_type": "code",
   "execution_count": 5,
   "id": "a3b7ad59-9f14-4246-9b05-4ec72431bace",
   "metadata": {},
   "outputs": [],
   "source": [
    "def rdkit_to_np(vect, nbits):\n",
    "    \"\"\"Helper function to convert a sparse vector from RDKit to a dense numpy vector.\"\"\"\n",
    "    arr = np.zeros((nbits,))\n",
    "    DataStructs.ConvertToNumpyArray(vect, arr)  # overwrites arr\n",
    "    return arr"
   ]
  },
  {
   "cell_type": "markdown",
   "id": "b8c6389e-489e-4d21-881c-a0536e90eb2a",
   "metadata": {},
   "source": [
    "# Compare approaches to create a Morgan fingerprint"
   ]
  },
  {
   "cell_type": "markdown",
   "id": "2641d39a-6d0b-45b4-bda9-076bbd7ebf2c",
   "metadata": {},
   "source": [
    "### Method 1:\n",
    "https://github.com/kspieks/chemprop/blob/barrier_prediction/chemprop/features/features_generators.py#L53-L69"
   ]
  },
  {
   "cell_type": "code",
   "execution_count": 6,
   "id": "443919d9-3340-438f-9e59-c515d3e1462f",
   "metadata": {},
   "outputs": [],
   "source": [
    "radius = 2\n",
    "num_bits = 2048"
   ]
  },
  {
   "cell_type": "code",
   "execution_count": 7,
   "id": "645b6d6d-c644-4c38-82de-83737dcd0bfb",
   "metadata": {},
   "outputs": [
    {
     "data": {
      "text/plain": [
       "((2048,), 7.0)"
      ]
     },
     "execution_count": 7,
     "metadata": {},
     "output_type": "execute_result"
    }
   ],
   "source": [
    "# this creates a count vector\n",
    "fp_count1 = AllChem.GetHashedMorganFingerprint(mol, radius, nBits=num_bits, useChirality=True)\n",
    "fp_count1 = rdkit_to_np(fp_count1, num_bits)\n",
    "fp_count1.shape, max(fp_count1)"
   ]
  },
  {
   "cell_type": "code",
   "execution_count": 8,
   "id": "a0f4b6cc-f4b6-4d5a-9057-7da82b238a4f",
   "metadata": {},
   "outputs": [
    {
     "data": {
      "text/plain": [
       "((2048,), 1.0)"
      ]
     },
     "execution_count": 8,
     "metadata": {},
     "output_type": "execute_result"
    }
   ],
   "source": [
    "fp1 = AllChem.GetMorganFingerprintAsBitVect(mol, radius, nBits=num_bits, useChirality=True)\n",
    "fp1 = rdkit_to_np(fp1, num_bits)\n",
    "fp1.shape, max(fp1)"
   ]
  },
  {
   "cell_type": "markdown",
   "id": "2cc095fa-adcb-4482-8763-49034b329f62",
   "metadata": {},
   "source": [
    "### Method 2:\n",
    "https://greglandrum.github.io/rdkit-blog/posts/2023-01-18-fingerprint-generator-tutorial.html"
   ]
  },
  {
   "cell_type": "code",
   "execution_count": 9,
   "id": "5c8ace6e-e309-4753-8630-d6cca3589d5c",
   "metadata": {},
   "outputs": [],
   "source": [
    "morgan_gen = rdFingerprintGenerator.GetMorganGenerator(radius=radius, fpSize=num_bits, includeChirality=True)"
   ]
  },
  {
   "cell_type": "code",
   "execution_count": 10,
   "id": "f7b67dd2-6679-4048-b764-c42c0b665124",
   "metadata": {},
   "outputs": [
    {
     "data": {
      "text/plain": [
       "((2048,), 7)"
      ]
     },
     "execution_count": 10,
     "metadata": {},
     "output_type": "execute_result"
    }
   ],
   "source": [
    "fp_count2 = morgan_gen.GetCountFingerprintAsNumPy(mol)\n",
    "fp_count2.shape, max(fp_count2)"
   ]
  },
  {
   "cell_type": "code",
   "execution_count": 11,
   "id": "e0b9639b-9b59-46c0-b45c-54dd49701c11",
   "metadata": {},
   "outputs": [
    {
     "data": {
      "text/plain": [
       "True"
      ]
     },
     "execution_count": 11,
     "metadata": {},
     "output_type": "execute_result"
    }
   ],
   "source": [
    "all(fp_count1 == fp_count2)"
   ]
  },
  {
   "cell_type": "code",
   "execution_count": 12,
   "id": "2a53ff7a-e833-4710-84c3-aa90cb922773",
   "metadata": {},
   "outputs": [
    {
     "data": {
      "text/plain": [
       "((2048,), 1)"
      ]
     },
     "execution_count": 12,
     "metadata": {},
     "output_type": "execute_result"
    }
   ],
   "source": [
    "fp2 = morgan_gen.GetFingerprintAsNumPy(mol)\n",
    "fp2.shape, max(fp2)"
   ]
  },
  {
   "cell_type": "code",
   "execution_count": 13,
   "id": "380bd2c4-d865-48f5-9fe1-c75b38c45315",
   "metadata": {},
   "outputs": [
    {
     "data": {
      "text/plain": [
       "True"
      ]
     },
     "execution_count": 13,
     "metadata": {},
     "output_type": "execute_result"
    }
   ],
   "source": [
    "all(fp1 == fp2)"
   ]
  },
  {
   "cell_type": "markdown",
   "id": "c62d1e88-0fc3-415c-a3be-b7bd491203f6",
   "metadata": {},
   "source": [
    "# Compare approaches to generate AtomPair fingerprint"
   ]
  },
  {
   "cell_type": "markdown",
   "id": "495da907-0710-4de5-92fe-ef5297d6802a",
   "metadata": {},
   "source": [
    "### Method 1\n",
    "\n",
    "https://www.rdkit.org/docs/source/rdkit.Chem.AtomPairs.Pairs.html\n",
    "\n",
    "https://www.rdkit.org/docs/source/rdkit.Chem.rdMolDescriptors.html#rdkit.Chem.rdMolDescriptors.GetHashedAtomPairFingerprint\n",
    "\n",
    "https://www.rdkit.org/docs/source/rdkit.Chem.rdMolDescriptors.html#rdkit.Chem.rdMolDescriptors.GetHashedAtomPairFingerprintAsBitVect"
   ]
  },
  {
   "cell_type": "code",
   "execution_count": 14,
   "id": "cb37aa52-c493-4bfe-90e4-db628b818497",
   "metadata": {},
   "outputs": [],
   "source": [
    "minPathLen = 1\n",
    "maxPathLen = 30\n",
    "nbits = 2048"
   ]
  },
  {
   "cell_type": "code",
   "execution_count": 15,
   "id": "09b9d5a1-570a-4670-b447-7fe6027bdf85",
   "metadata": {},
   "outputs": [
    {
     "data": {
      "text/plain": [
       "((2048,), 8.0)"
      ]
     },
     "execution_count": 15,
     "metadata": {},
     "output_type": "execute_result"
    }
   ],
   "source": [
    "# this creates a count fingerprint\n",
    "fp_count1 = rdMolDescriptors.GetHashedAtomPairFingerprint(mol,\n",
    "                                   minLength=minPathLen,\n",
    "                                   maxLength=maxPathLen,\n",
    "                                   nBits=nbits,\n",
    "                                   includeChirality=True\n",
    "                                  )\n",
    "fp_count1 = rdkit_to_np(fp_count1, nbits)\n",
    "fp_count1.shape, max(fp_count1)"
   ]
  },
  {
   "cell_type": "code",
   "execution_count": 16,
   "id": "3582c75f-0e8b-46f3-b0c3-ff6fb63926fa",
   "metadata": {},
   "outputs": [
    {
     "data": {
      "text/plain": [
       "((2048,), 1.0)"
      ]
     },
     "execution_count": 16,
     "metadata": {},
     "output_type": "execute_result"
    }
   ],
   "source": [
    "fp1 = rdMolDescriptors.GetHashedAtomPairFingerprintAsBitVect(mol,\n",
    "                                   minLength=minPathLen,\n",
    "                                   maxLength=maxPathLen,\n",
    "                                   nBits=nbits,\n",
    "                                   includeChirality=True,\n",
    "                                  )\n",
    "fp1 = rdkit_to_np(fp1, nbits)\n",
    "fp1.shape, max(fp1)"
   ]
  },
  {
   "cell_type": "markdown",
   "id": "2d1a37b4-59cc-4f98-8a0b-ea54cc2baa8c",
   "metadata": {},
   "source": [
    "### Method 2\n",
    "\n",
    "https://www.rdkit.org/docs/source/rdkit.Chem.rdFingerprintGenerator.html#rdkit.Chem.rdFingerprintGenerator.GetAtomPairGenerator"
   ]
  },
  {
   "cell_type": "code",
   "execution_count": 17,
   "id": "5902849b-aac4-458a-91af-05d1afc74c6d",
   "metadata": {},
   "outputs": [],
   "source": [
    "atompair_gen = rdFingerprintGenerator.GetAtomPairGenerator(\n",
    "        minDistance=minPathLen,\n",
    "        maxDistance=maxPathLen,\n",
    "        fpSize=nbits,\n",
    "        includeChirality=True,\n",
    ")"
   ]
  },
  {
   "cell_type": "code",
   "execution_count": 18,
   "id": "7fa08c56-52a6-464b-ad52-9f334f06ab21",
   "metadata": {},
   "outputs": [
    {
     "data": {
      "text/plain": [
       "((2048,), 8)"
      ]
     },
     "execution_count": 18,
     "metadata": {},
     "output_type": "execute_result"
    }
   ],
   "source": [
    "fp_count2 = atompair_gen.GetCountFingerprintAsNumPy(mol)\n",
    "fp_count2.shape, max(fp_count2)"
   ]
  },
  {
   "cell_type": "code",
   "execution_count": 19,
   "id": "9db6c1f6-aebd-4208-9e75-4a0057fd486f",
   "metadata": {},
   "outputs": [
    {
     "data": {
      "text/plain": [
       "True"
      ]
     },
     "execution_count": 19,
     "metadata": {},
     "output_type": "execute_result"
    }
   ],
   "source": [
    "all(fp_count1 == fp_count2)"
   ]
  },
  {
   "cell_type": "code",
   "execution_count": 20,
   "id": "c644ddb8-2f5a-4877-a543-2978e192b419",
   "metadata": {},
   "outputs": [
    {
     "data": {
      "text/plain": [
       "((2048,), 1)"
      ]
     },
     "execution_count": 20,
     "metadata": {},
     "output_type": "execute_result"
    }
   ],
   "source": [
    "fp2 = atompair_gen.GetFingerprintAsNumPy(mol)\n",
    "fp2.shape, max(fp2)"
   ]
  },
  {
   "cell_type": "code",
   "execution_count": 21,
   "id": "47d60c59-6ce2-4a85-8e34-c0e44705a7fe",
   "metadata": {},
   "outputs": [
    {
     "data": {
      "text/plain": [
       "True"
      ]
     },
     "execution_count": 21,
     "metadata": {},
     "output_type": "execute_result"
    }
   ],
   "source": [
    "all(fp1 == fp2)"
   ]
  },
  {
   "cell_type": "code",
   "execution_count": null,
   "id": "e4884728-335b-407d-a778-ef54f6c07229",
   "metadata": {},
   "outputs": [],
   "source": []
  }
 ],
 "metadata": {
  "kernelspec": {
   "display_name": "Python 3 (ipykernel)",
   "language": "python",
   "name": "python3"
  },
  "language_info": {
   "codemirror_mode": {
    "name": "ipython",
    "version": 3
   },
   "file_extension": ".py",
   "mimetype": "text/x-python",
   "name": "python",
   "nbconvert_exporter": "python",
   "pygments_lexer": "ipython3",
   "version": "3.11.7"
  }
 },
 "nbformat": 4,
 "nbformat_minor": 5
}
